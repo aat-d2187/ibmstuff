{
 "cells": [
  {
   "cell_type": "markdown",
   "id": "4ebd75f2-c6e6-4668-a331-33b9443a722d",
   "metadata": {
    "tags": []
   },
   "source": [
    "<h1>My Personal Jupyter Notebook Through IBM Watson Studio</h1>"
   ]
  },
  {
   "cell_type": "markdown",
   "id": "60aaca17-2586-4b32-9524-35ac7fdcfc89",
   "metadata": {},
   "source": [
    "<h3>Aatman Dave</h3>"
   ]
  },
  {
   "cell_type": "markdown",
   "id": "d69a7596-36db-4267-beca-109031f2a11d",
   "metadata": {},
   "source": [
    "<font size=2><em>Data Science/Machine Learning has always been my main concentration in computer technology, due to my passion of numbers, mathematics and other additional quantitative aspects.</em>"
   ]
  },
  {
   "cell_type": "markdown",
   "id": "f9f18dd6-b7bf-4029-bafe-6f406999e0fc",
   "metadata": {},
   "source": [
    "<h3>I am going to program a basic data science method known as zipping and enumerating...</h3>"
   ]
  },
  {
   "cell_type": "code",
   "execution_count": 9,
   "id": "1f35804a-710e-4b4d-9b11-2b9328506dd7",
   "metadata": {},
   "outputs": [
    {
     "name": "stdout",
     "output_type": "stream",
     "text": [
      "('John', 'Jennny')\n",
      "('Charles', 'Christy')\n",
      "('Mike', 'Monica')\n"
     ]
    }
   ],
   "source": [
    "a = ('John', 'Charles', 'Mike')\n",
    "b = ('Jennny', 'Christy', 'Monica')\n",
    "\n",
    "x = zip(a, b)\n",
    "for _ in x:\n",
    "    print(_)"
   ]
  },
  {
   "cell_type": "code",
   "execution_count": 10,
   "id": "815df824-89e9-4543-a95c-9c2c8fcdb7a1",
   "metadata": {},
   "outputs": [
    {
     "name": "stdout",
     "output_type": "stream",
     "text": [
      "0 a\n",
      "1 b\n",
      "2 c\n"
     ]
    }
   ],
   "source": [
    "a = [1, 2, 3]\n",
    "b = ['a', 'b', 'c']\n",
    "x = zip(a, b)\n",
    "for count, item in enumerate(b):\n",
    "    print(count, item)"
   ]
  },
  {
   "cell_type": "markdown",
   "id": "c7c21119-c291-4b49-885a-fd269485586f",
   "metadata": {},
   "source": [
    "<h3>Bullets, Numbers & Strikethroughs</h3>"
   ]
  },
  {
   "cell_type": "markdown",
   "id": "229c2bc8-6b77-4c2a-a701-1aa8f5a6cf42",
   "metadata": {},
   "source": [
    "<ul><li>Check out the code I programmed</li><ol><li>{{0, a}, {1, b}, {2, c}}</li><li><strike>Computer Strike!!!</strike></li></ol></ul>"
   ]
  }
 ],
 "metadata": {
  "kernelspec": {
   "display_name": "Python",
   "language": "python",
   "name": "conda-env-python-py"
  },
  "language_info": {
   "codemirror_mode": {
    "name": "ipython",
    "version": 3
   },
   "file_extension": ".py",
   "mimetype": "text/x-python",
   "name": "python",
   "nbconvert_exporter": "python",
   "pygments_lexer": "ipython3",
   "version": "3.7.12"
  }
 },
 "nbformat": 4,
 "nbformat_minor": 5
}
